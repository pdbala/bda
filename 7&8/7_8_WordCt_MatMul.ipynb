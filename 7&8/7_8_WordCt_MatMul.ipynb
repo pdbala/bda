{
 "cells": [
  {
   "cell_type": "code",
   "execution_count": 12,
   "metadata": {
    "colab": {
     "base_uri": "https://localhost:8080/"
    },
    "id": "zYcCkVqZ0ybX",
    "outputId": "7ac8482d-ea82-445f-e671-3c0ba7bafdf5"
   },
   "outputs": [
    {
     "name": "stdout",
     "output_type": "stream",
     "text": [
      "3 2\n",
      "2 4\n"
     ]
    }
   ],
   "source": [
    "import numpy as np\n",
    "\n",
    "m1=[[1,2],\n",
    "    [2,3],\n",
    "    [4,5]]\n",
    "m2=[[1,2,3,4],\n",
    "    [2,3,3,6],]\n",
    "\n",
    "print(len(m1),len(m1[0]))\n",
    "print(len(m2),len(m2[0]))"
   ]
  },
  {
   "cell_type": "code",
   "execution_count": 31,
   "metadata": {
    "colab": {
     "base_uri": "https://localhost:8080/"
    },
    "id": "psB5HFRk1tHf",
    "outputId": "427be82c-be29-4219-dd16-f078bf207576"
   },
   "outputs": [
    {
     "name": "stdout",
     "output_type": "stream",
     "text": [
      "[[5, 8, 9, 16], [8, 13, 15, 26], [14, 23, 27, 46]]\n"
     ]
    }
   ],
   "source": [
    "mul=[]\n",
    "row=[]\n",
    "calc=0\n",
    "for i in range(len(m1)):\n",
    "  row=[]\n",
    "  for k in range(len(m2[0])):\n",
    "    # row=[]\n",
    "    for j in range(len(m1[0])):\n",
    "      calc+=m1[i][j]*m2[j][k]\n",
    "      # print(m1[i][j],m2[j][k])\n",
    "    row.append(calc)\n",
    "    calc=0\n",
    "    # print(row)\n",
    "  mul.append(row)\n",
    "\n",
    "print(mul)\n"
   ]
  },
  {
   "cell_type": "code",
   "execution_count": 25,
   "metadata": {
    "id": "I6R1rqc62ln7"
   },
   "outputs": [],
   "source": [
    "mn1=np.array(m1)\n",
    "mn2=np.array(m2)"
   ]
  },
  {
   "cell_type": "code",
   "execution_count": 26,
   "metadata": {
    "colab": {
     "base_uri": "https://localhost:8080/"
    },
    "id": "xXd6fGLU8gv0",
    "outputId": "eb8e39a5-a79a-462c-9ad8-d6684135f530"
   },
   "outputs": [
    {
     "data": {
      "text/plain": [
       "array([[1, 2],\n",
       "       [2, 3],\n",
       "       [4, 5]])"
      ]
     },
     "execution_count": 26,
     "metadata": {},
     "output_type": "execute_result"
    }
   ],
   "source": [
    "mn1"
   ]
  },
  {
   "cell_type": "code",
   "execution_count": 27,
   "metadata": {
    "colab": {
     "base_uri": "https://localhost:8080/"
    },
    "id": "wYwGROAq8hMc",
    "outputId": "b4d21cec-1cb9-42d5-fefa-c41b9498e7fb"
   },
   "outputs": [
    {
     "data": {
      "text/plain": [
       "array([[1, 2, 3, 4],\n",
       "       [2, 3, 3, 6]])"
      ]
     },
     "execution_count": 27,
     "metadata": {},
     "output_type": "execute_result"
    }
   ],
   "source": [
    "mn2"
   ]
  },
  {
   "cell_type": "code",
   "execution_count": 28,
   "metadata": {
    "colab": {
     "base_uri": "https://localhost:8080/"
    },
    "id": "YoqOpJW78hme",
    "outputId": "1455f5d7-4b15-4b09-a94b-87892e91eff9"
   },
   "outputs": [
    {
     "data": {
      "text/plain": [
       "array([[ 5,  8,  9, 16],\n",
       "       [ 8, 13, 15, 26],\n",
       "       [14, 23, 27, 46]])"
      ]
     },
     "execution_count": 28,
     "metadata": {},
     "output_type": "execute_result"
    }
   ],
   "source": [
    "np.dot(m1,m2)"
   ]
  },
  {
   "cell_type": "code",
   "execution_count": 1,
   "metadata": {
    "id": "FkbRZzZr8jLp"
   },
   "outputs": [
    {
     "name": "stdout",
     "output_type": "stream",
     "text": [
      "Enter the path to the text file: C:\\Users\\91932\\Downloads\\bda\\sample.txt\n",
      "fhv: 1\n",
      "ujfyb: 1\n",
      "igb: 1\n",
      "mg86gbk: 1\n",
      "g86ygib: 1\n",
      "ufb: 1\n",
      "mftub: 1\n",
      "hjv: 1\n"
     ]
    }
   ],
   "source": [
    "def count_word_occurrences(file_path):\n",
    "    word_count = {}\n",
    "    with open(file_path, 'r') as file:\n",
    "        for line in file:\n",
    "            words = line.split()\n",
    "            for word in words:\n",
    "                # Removing punctuation and converting to lowercase\n",
    "                word = word.strip('.,!?:;\"\\'').lower()\n",
    "                if word:\n",
    "                    word_count[word] = word_count.get(word, 0) + 1\n",
    "    return word_count\n",
    "\n",
    "def main():\n",
    "    file_path = input(\"Enter the path to the text file: \")\n",
    "    try:\n",
    "        word_count = count_word_occurrences(file_path)\n",
    "        for word, count in word_count.items():\n",
    "            print(f\"{word}: {count}\")\n",
    "    except FileNotFoundError:\n",
    "        print(\"File not found. Please enter a valid file path.\")\n",
    "\n",
    "if __name__ == \"__main__\":\n",
    "    main()\n"
   ]
  },
  {
   "cell_type": "code",
   "execution_count": null,
   "metadata": {},
   "outputs": [
    {
     "name": "stdout",
     "output_type": "stream",
     "text": [
      "Matrix 1 matrix:\n",
      "[1, 2, 3]\n",
      "[4, 5, 6]\n",
      "\n",
      "Matrix 2 matrix:\n",
      "[7, 8]\n",
      "[9, 10]\n",
      "[11, 12]\n",
      "\n",
      "Multiplying 1 from matrix A with 7 from matrix B\n",
      "Multiplying 2 from matrix A with 9 from matrix B\n",
      "Multiplying 3 from matrix A with 11 from matrix B\n",
      "Multiplying 1 from matrix A with 8 from matrix B\n",
      "Multiplying 2 from matrix A with 10 from matrix B\n",
      "Multiplying 3 from matrix A with 12 from matrix B\n",
      "Multiplying 4 from matrix A with 7 from matrix B\n",
      "Multiplying 5 from matrix A with 9 from matrix B\n",
      "Multiplying 6 from matrix A with 11 from matrix B\n",
      "Multiplying 4 from matrix A with 8 from matrix B\n",
      "Multiplying 5 from matrix A with 10 from matrix B\n",
      "Multiplying 6 from matrix A with 12 from matrix B\n",
      "Result of matrix multiplication (Normal method):\n",
      "Result matrix:\n",
      "[58, 64]\n",
      "[139, 154]\n",
      "\n"
     ]
    }
   ],
   "source": [
    "import multiprocessing\n",
    "\n",
    "def matrix_multiplication(A, B):\n",
    "    rows_A = len(A)\n",
    "    cols_A = len(A[0])\n",
    "    rows_B = len(B)\n",
    "    cols_B = len(B[0])\n",
    "\n",
    "    if cols_A != rows_B:\n",
    "        print(\"Matrix multiplication is not possible\")\n",
    "        return None\n",
    "\n",
    "    result = [[0 for _ in range(cols_B)] for _ in range(rows_A)]\n",
    "\n",
    "    for i in range(rows_A):\n",
    "        for j in range(cols_B):\n",
    "            for k in range(cols_A):\n",
    "                result[i][j] += A[i][k] * B[k][j]\n",
    "                # Visualize each multiplication step\n",
    "                print(f\"Multiplying {A[i][k]} from matrix A with {B[k][j]} from matrix B\")\n",
    "\n",
    "    return result\n",
    "\n",
    "def compute_element(args):\n",
    "    i, j, A, B = args\n",
    "    result = 0\n",
    "    for k in range(len(A[0])):\n",
    "        result += A[i][k] * B[k][j]\n",
    "    return (i, j, result)\n",
    "\n",
    "def matrix_multiplication_parallel(A, B):\n",
    "    rows_A = len(A)\n",
    "    cols_B = len(B[0])\n",
    "\n",
    "    if len(A[0]) != len(B):\n",
    "        print(\"Matrix multiplication is not possible\")\n",
    "        return None\n",
    "\n",
    "    with multiprocessing.Pool() as pool:\n",
    "        results = pool.map(compute_element, [(i, j, A, B) for i in range(rows_A) for j in range(cols_B)])\n",
    "\n",
    "    result = [[0 for _ in range(cols_B)] for _ in range(rows_A)]\n",
    "    for i, j, val in results:\n",
    "        result[i][j] = val\n",
    "\n",
    "    return result\n",
    "\n",
    "def print_matrix(matrix, name):\n",
    "    print(f\"{name} matrix:\")\n",
    "    for row in matrix:\n",
    "        print(row)\n",
    "\n",
    "# Example matrices\n",
    "matrix1 = [\n",
    "    [1, 2, 3],\n",
    "    [4, 5, 6],\n",
    "]\n",
    "\n",
    "matrix2 = [\n",
    "    [7, 8],\n",
    "    [9, 10],\n",
    "    [11, 12]\n",
    "]\n",
    "\n",
    "# Print input matrices\n",
    "print_matrix(matrix1, \"Matrix 1\")\n",
    "print()\n",
    "print_matrix(matrix2, \"Matrix 2\")\n",
    "print()\n",
    "\n",
    "# Perform matrix multiplication using normal method\n",
    "result_matrix_normal = matrix_multiplication(matrix1, matrix2)\n",
    "\n",
    "# Print the result of normal method\n",
    "if result_matrix_normal:\n",
    "    print(\"Result of matrix multiplication (Normal method):\")\n",
    "    print_matrix(result_matrix_normal, \"Result\")\n",
    "\n",
    "print()\n",
    "\n",
    "# Perform matrix multiplication using parallel computing\n",
    "result_matrix_parallel = matrix_multiplication_parallel(matrix1, matrix2)\n",
    "\n",
    "# Print the result of parallel computing\n",
    "if result_matrix_parallel:\n",
    "    print(\"Result of matrix multiplication (Parallel computing):\")\n",
    "    print_matrix(result_matrix_parallel, \"Result\")\n"
   ]
  },
  {
   "cell_type": "code",
   "execution_count": null,
   "metadata": {},
   "outputs": [],
   "source": []
  }
 ],
 "metadata": {
  "colab": {
   "provenance": []
  },
  "kernelspec": {
   "display_name": "Python 3 (ipykernel)",
   "language": "python",
   "name": "python3"
  },
  "language_info": {
   "codemirror_mode": {
    "name": "ipython",
    "version": 3
   },
   "file_extension": ".py",
   "mimetype": "text/x-python",
   "name": "python",
   "nbconvert_exporter": "python",
   "pygments_lexer": "ipython3",
   "version": "3.10.9"
  }
 },
 "nbformat": 4,
 "nbformat_minor": 1
}
